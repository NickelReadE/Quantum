{
 "cells": [
  {
   "cell_type": "code",
   "execution_count": 1,
   "id": "48b3d1aa",
   "metadata": {},
   "outputs": [
    {
     "name": "stdout",
     "output_type": "stream",
     "text": [
      "Requirement already satisfied: qiskit_ibm_runtime in /Users/ptato/opt/anaconda3/lib/python3.9/site-packages (0.30.0)\n",
      "Requirement already satisfied: requests>=2.19 in /Users/ptato/opt/anaconda3/lib/python3.9/site-packages (from qiskit_ibm_runtime) (2.32.3)\n",
      "Requirement already satisfied: requests-ntlm>=1.1.0 in /Users/ptato/opt/anaconda3/lib/python3.9/site-packages (from qiskit_ibm_runtime) (1.3.0)\n",
      "Requirement already satisfied: numpy>=1.13 in /Users/ptato/opt/anaconda3/lib/python3.9/site-packages (from qiskit_ibm_runtime) (1.23.5)\n",
      "Requirement already satisfied: urllib3>=1.21.1 in /Users/ptato/opt/anaconda3/lib/python3.9/site-packages (from qiskit_ibm_runtime) (2.2.3)\n",
      "Requirement already satisfied: python-dateutil>=2.8.0 in /Users/ptato/opt/anaconda3/lib/python3.9/site-packages (from qiskit_ibm_runtime) (2.8.2)\n",
      "Requirement already satisfied: websocket-client>=1.5.1 in /Users/ptato/opt/anaconda3/lib/python3.9/site-packages (from qiskit_ibm_runtime) (1.8.0)\n",
      "Requirement already satisfied: ibm-platform-services>=0.22.6 in /Users/ptato/opt/anaconda3/lib/python3.9/site-packages (from qiskit_ibm_runtime) (0.57.1)\n",
      "Requirement already satisfied: pydantic>=2.5.0 in /Users/ptato/opt/anaconda3/lib/python3.9/site-packages (from qiskit_ibm_runtime) (2.9.2)\n",
      "Requirement already satisfied: qiskit>=1.1.0 in /Users/ptato/.local/lib/python3.9/site-packages (from qiskit_ibm_runtime) (1.2.1)\n",
      "Requirement already satisfied: ibm-cloud-sdk-core<4.0.0,>=3.21.0 in /Users/ptato/opt/anaconda3/lib/python3.9/site-packages (from ibm-platform-services>=0.22.6->qiskit_ibm_runtime) (3.21.0)\n",
      "Requirement already satisfied: annotated-types>=0.6.0 in /Users/ptato/opt/anaconda3/lib/python3.9/site-packages (from pydantic>=2.5.0->qiskit_ibm_runtime) (0.7.0)\n",
      "Requirement already satisfied: pydantic-core==2.23.4 in /Users/ptato/opt/anaconda3/lib/python3.9/site-packages (from pydantic>=2.5.0->qiskit_ibm_runtime) (2.23.4)\n",
      "Requirement already satisfied: typing-extensions>=4.6.1 in /Users/ptato/opt/anaconda3/lib/python3.9/site-packages (from pydantic>=2.5.0->qiskit_ibm_runtime) (4.12.2)\n",
      "Requirement already satisfied: six>=1.5 in /Users/ptato/opt/anaconda3/lib/python3.9/site-packages (from python-dateutil>=2.8.0->qiskit_ibm_runtime) (1.16.0)\n",
      "Requirement already satisfied: rustworkx>=0.15.0 in /Users/ptato/opt/anaconda3/lib/python3.9/site-packages (from qiskit>=1.1.0->qiskit_ibm_runtime) (0.15.1)\n",
      "Requirement already satisfied: scipy>=1.5 in /Users/ptato/opt/anaconda3/lib/python3.9/site-packages (from qiskit>=1.1.0->qiskit_ibm_runtime) (1.9.1)\n",
      "Requirement already satisfied: sympy>=1.3 in /Users/ptato/opt/anaconda3/lib/python3.9/site-packages (from qiskit>=1.1.0->qiskit_ibm_runtime) (1.10.1)\n",
      "Requirement already satisfied: dill>=0.3 in /Users/ptato/opt/anaconda3/lib/python3.9/site-packages (from qiskit>=1.1.0->qiskit_ibm_runtime) (0.3.6)\n",
      "Requirement already satisfied: stevedore>=3.0.0 in /Users/ptato/opt/anaconda3/lib/python3.9/site-packages (from qiskit>=1.1.0->qiskit_ibm_runtime) (5.1.0)\n",
      "Requirement already satisfied: symengine>=0.11 in /Users/ptato/opt/anaconda3/lib/python3.9/site-packages (from qiskit>=1.1.0->qiskit_ibm_runtime) (0.11.0)\n",
      "Requirement already satisfied: charset-normalizer<4,>=2 in /Users/ptato/opt/anaconda3/lib/python3.9/site-packages (from requests>=2.19->qiskit_ibm_runtime) (2.0.4)\n",
      "Requirement already satisfied: idna<4,>=2.5 in /Users/ptato/opt/anaconda3/lib/python3.9/site-packages (from requests>=2.19->qiskit_ibm_runtime) (3.3)\n",
      "Requirement already satisfied: certifi>=2017.4.17 in /Users/ptato/opt/anaconda3/lib/python3.9/site-packages (from requests>=2.19->qiskit_ibm_runtime) (2022.9.24)\n",
      "Requirement already satisfied: cryptography>=1.3 in /Users/ptato/opt/anaconda3/lib/python3.9/site-packages (from requests-ntlm>=1.1.0->qiskit_ibm_runtime) (37.0.1)\n",
      "Requirement already satisfied: pyspnego>=0.4.0 in /Users/ptato/opt/anaconda3/lib/python3.9/site-packages (from requests-ntlm>=1.1.0->qiskit_ibm_runtime) (0.11.1)\n",
      "Requirement already satisfied: cffi>=1.12 in /Users/ptato/opt/anaconda3/lib/python3.9/site-packages (from cryptography>=1.3->requests-ntlm>=1.1.0->qiskit_ibm_runtime) (1.15.1)\n",
      "Requirement already satisfied: PyJWT<3.0.0,>=2.8.0 in /Users/ptato/opt/anaconda3/lib/python3.9/site-packages (from ibm-cloud-sdk-core<4.0.0,>=3.21.0->ibm-platform-services>=0.22.6->qiskit_ibm_runtime) (2.9.0)\n",
      "Requirement already satisfied: pbr!=2.1.0,>=2.0.0 in /Users/ptato/opt/anaconda3/lib/python3.9/site-packages (from stevedore>=3.0.0->qiskit>=1.1.0->qiskit_ibm_runtime) (6.0.0)\n",
      "Requirement already satisfied: mpmath>=0.19 in /Users/ptato/opt/anaconda3/lib/python3.9/site-packages (from sympy>=1.3->qiskit>=1.1.0->qiskit_ibm_runtime) (1.2.1)\n",
      "Requirement already satisfied: pycparser in /Users/ptato/opt/anaconda3/lib/python3.9/site-packages (from cffi>=1.12->cryptography>=1.3->requests-ntlm>=1.1.0->qiskit_ibm_runtime) (2.21)\n"
     ]
    }
   ],
   "source": [
    "!pip install qiskit_ibm_runtime"
   ]
  },
  {
   "cell_type": "code",
   "execution_count": 2,
   "id": "fd3c3b6d",
   "metadata": {},
   "outputs": [],
   "source": [
    "import numpy as np\n",
    "\n",
    "# Pre-defined ansatz circuit and operator class for Hamiltonian\n",
    "from qiskit.circuit.library import EfficientSU2\n",
    "from qiskit.quantum_info import SparsePauliOp\n",
    "\n",
    "# SciPy minimizer routine\n",
    "from scipy.optimize import minimize\n",
    "\n",
    "# Plotting functions\n",
    "import matplotlib.pyplot as plt"
   ]
  },
  {
   "cell_type": "code",
   "execution_count": 3,
   "id": "94b072a9",
   "metadata": {},
   "outputs": [],
   "source": [
    "def sample_hamiltonian():\n",
    "    \"\"\"\n",
    "    A test hamiltonian\n",
    "    :rtype: SparsePauliOp\n",
    "    \"\"\"\n",
    "    # Encode the hamiltonian\n",
    "    pauli_terms = [\n",
    "        ('ZZ', 1.0),\n",
    "        ('ZI', 0.5),\n",
    "        ('IZ', 0.25),]\n",
    "    hamiltonian = SparsePauliOp.from_list(pauli_terms)\n",
    "    return hamiltonian"
   ]
  },
  {
   "cell_type": "code",
   "execution_count": 4,
   "id": "423d3656",
   "metadata": {},
   "outputs": [],
   "source": [
    "# runtime imports\n",
    "from qiskit_ibm_runtime import QiskitRuntimeService, Session\n",
    "from qiskit_ibm_runtime import EstimatorV2 as Estimator"
   ]
  },
  {
   "cell_type": "code",
   "execution_count": 5,
   "id": "98a7f573",
   "metadata": {},
   "outputs": [
    {
     "data": {
      "text/plain": [
       "16"
      ]
     },
     "execution_count": 5,
     "metadata": {},
     "output_type": "execute_result"
    }
   ],
   "source": [
    "hamiltonian = sample_hamiltonian()\n",
    "\n",
    "# Define a sample variational ansatz\n",
    "ansatz = EfficientSU2(hamiltonian.num_qubits)\n",
    "num_params = ansatz.num_parameters\n",
    "x0 = 2 * np.pi * np.random.random(num_params)\n",
    "num_params"
   ]
  },
  {
   "cell_type": "code",
   "execution_count": 6,
   "id": "e88d4408",
   "metadata": {},
   "outputs": [],
   "source": [
    "cost_history_dict = {\n",
    "    \"prev_vector\": None,\n",
    "    \"iters\": 0,\n",
    "    \"cost_history\": [],\n",
    "}\n",
    "\n",
    "def cost_func(params, ansatz, hamiltonian, estimator):\n",
    "    \"\"\"Return estimate of energy from estimator\n",
    "\n",
    "    Parameters:\n",
    "        params (ndarray): Array of ansatz parameters\n",
    "        ansatz (QuantumCircuit): Parameterized ansatz circuit\n",
    "        hamiltonian (SparsePauliOp): Operator representation of Hamiltonian\n",
    "        estimator (EstimatorV2): Estimator primitive instance\n",
    "        cost_history_dict: Dictionary for storing intermediate results\n",
    "\n",
    "    Returns:\n",
    "        float: Energy estimate\n",
    "    \"\"\"\n",
    "    pub = (ansatz, [hamiltonian], [params])\n",
    "    result = estimator.run(pubs=[pub]).result()\n",
    "    energy = result[0].data.evs[0]\n",
    "\n",
    "    cost_history_dict[\"iters\"] += 1\n",
    "    cost_history_dict[\"prev_vector\"] = params\n",
    "    cost_history_dict[\"cost_history\"].append(energy)\n",
    "    print(f\"Iters. done: {cost_history_dict['iters']} [Current cost: {energy}]\")\n",
    "\n",
    "    return energy"
   ]
  },
  {
   "cell_type": "code",
   "execution_count": 13,
   "id": "58ab5f9a",
   "metadata": {},
   "outputs": [],
   "source": [
    "# To run on hardware, select the backend with the fewest number of jobs in the queue\n",
    "service = QiskitRuntimeService(channel=\"ibm_quantum\", instance='ibm-q/open/main',\n",
    "    token='5ab0c260e3c73c53410bf4d8e6b47ecf73d3cd675c992887941bfe673a929772cd234cadfc79c4b8a891e7e074ee714ddda5115ce59f13ce99aef78586332052')\n",
    "backend = service.least_busy(operational=True, simulator=False)\n",
    "from qiskit.transpiler.preset_passmanagers import generate_preset_pass_manager\n",
    "\n",
    "target = backend.target\n",
    "pm = generate_preset_pass_manager(target=target, optimization_level=3)\n",
    "\n",
    "ansatz_isa = pm.run(ansatz)\n",
    "\n",
    "hamiltonian_isa = hamiltonian.apply_layout(layout=ansatz_isa.layout)"
   ]
  },
  {
   "cell_type": "code",
   "execution_count": 14,
   "id": "2c11fbf6",
   "metadata": {},
   "outputs": [
    {
     "name": "stdout",
     "output_type": "stream",
     "text": [
      "Iters. done: 4 [Current cost: -0.5190336284086283]\n",
      "Iters. done: 5 [Current cost: 1.1316453088783205]\n",
      "Iters. done: 6 [Current cost: 1.04296875]\n"
     ]
    },
    {
     "name": "stderr",
     "output_type": "stream",
     "text": [
      "capi_return is NULL\n",
      "Call-back cb_calcfc_in__cobyla__user__routines failed.\n"
     ]
    },
    {
     "ename": "IBMRuntimeError",
     "evalue": "'Failed to run program: \\'400 Client Error: Bad Request for url: https://api.quantum.ibm.com/runtime/jobs. {\"errors\":[{\"code\":1217,\"message\":\"Session has been closed.\",\"solution\":\"Reduce time between submitting subsequent jobs in a session.\",\"more_info\":\"https://docs.quantum-computing.ibm.com/errors\"}]}\\''",
     "output_type": "error",
     "traceback": [
      "\u001b[0;31m---------------------------------------------------------------------------\u001b[0m",
      "\u001b[0;31mIBMRuntimeError\u001b[0m                           Traceback (most recent call last)",
      "\u001b[0;32m/var/folders/fg/00lp6jlj2plg615cnjqpfvn80000gn/T/ipykernel_91159/1072519408.py\u001b[0m in \u001b[0;36m<module>\u001b[0;34m\u001b[0m\n\u001b[1;32m      3\u001b[0m     \u001b[0mestimator\u001b[0m\u001b[0;34m.\u001b[0m\u001b[0moptions\u001b[0m\u001b[0;34m.\u001b[0m\u001b[0mdefault_shots\u001b[0m \u001b[0;34m=\u001b[0m \u001b[0;36m100\u001b[0m\u001b[0;34m\u001b[0m\u001b[0;34m\u001b[0m\u001b[0m\n\u001b[1;32m      4\u001b[0m \u001b[0;34m\u001b[0m\u001b[0m\n\u001b[0;32m----> 5\u001b[0;31m     res = minimize(\n\u001b[0m\u001b[1;32m      6\u001b[0m         \u001b[0mcost_func\u001b[0m\u001b[0;34m,\u001b[0m\u001b[0;34m\u001b[0m\u001b[0;34m\u001b[0m\u001b[0m\n\u001b[1;32m      7\u001b[0m         \u001b[0mx0\u001b[0m\u001b[0;34m,\u001b[0m\u001b[0;34m\u001b[0m\u001b[0;34m\u001b[0m\u001b[0m\n",
      "\u001b[0;32m~/opt/anaconda3/lib/python3.9/site-packages/scipy/optimize/_minimize.py\u001b[0m in \u001b[0;36mminimize\u001b[0;34m(fun, x0, args, method, jac, hess, hessp, bounds, constraints, tol, callback, options)\u001b[0m\n\u001b[1;32m    703\u001b[0m                             **options)\n\u001b[1;32m    704\u001b[0m     \u001b[0;32melif\u001b[0m \u001b[0mmeth\u001b[0m \u001b[0;34m==\u001b[0m \u001b[0;34m'cobyla'\u001b[0m\u001b[0;34m:\u001b[0m\u001b[0;34m\u001b[0m\u001b[0;34m\u001b[0m\u001b[0m\n\u001b[0;32m--> 705\u001b[0;31m         res = _minimize_cobyla(fun, x0, args, constraints, callback=callback,\n\u001b[0m\u001b[1;32m    706\u001b[0m                                 **options)\n\u001b[1;32m    707\u001b[0m     \u001b[0;32melif\u001b[0m \u001b[0mmeth\u001b[0m \u001b[0;34m==\u001b[0m \u001b[0;34m'slsqp'\u001b[0m\u001b[0;34m:\u001b[0m\u001b[0;34m\u001b[0m\u001b[0;34m\u001b[0m\u001b[0m\n",
      "\u001b[0;32m~/opt/anaconda3/lib/python3.9/site-packages/scipy/optimize/_cobyla_py.py\u001b[0m in \u001b[0;36mwrapper\u001b[0;34m(*args, **kwargs)\u001b[0m\n\u001b[1;32m     32\u001b[0m     \u001b[0;32mdef\u001b[0m \u001b[0mwrapper\u001b[0m\u001b[0;34m(\u001b[0m\u001b[0;34m*\u001b[0m\u001b[0margs\u001b[0m\u001b[0;34m,\u001b[0m \u001b[0;34m**\u001b[0m\u001b[0mkwargs\u001b[0m\u001b[0;34m)\u001b[0m\u001b[0;34m:\u001b[0m\u001b[0;34m\u001b[0m\u001b[0;34m\u001b[0m\u001b[0m\n\u001b[1;32m     33\u001b[0m         \u001b[0;32mwith\u001b[0m \u001b[0m_module_lock\u001b[0m\u001b[0;34m:\u001b[0m\u001b[0;34m\u001b[0m\u001b[0;34m\u001b[0m\u001b[0m\n\u001b[0;32m---> 34\u001b[0;31m             \u001b[0;32mreturn\u001b[0m \u001b[0mfunc\u001b[0m\u001b[0;34m(\u001b[0m\u001b[0;34m*\u001b[0m\u001b[0margs\u001b[0m\u001b[0;34m,\u001b[0m \u001b[0;34m**\u001b[0m\u001b[0mkwargs\u001b[0m\u001b[0;34m)\u001b[0m\u001b[0;34m\u001b[0m\u001b[0;34m\u001b[0m\u001b[0m\n\u001b[0m\u001b[1;32m     35\u001b[0m     \u001b[0;32mreturn\u001b[0m \u001b[0mwrapper\u001b[0m\u001b[0;34m\u001b[0m\u001b[0;34m\u001b[0m\u001b[0m\n\u001b[1;32m     36\u001b[0m \u001b[0;34m\u001b[0m\u001b[0m\n",
      "\u001b[0;32m~/opt/anaconda3/lib/python3.9/site-packages/scipy/optimize/_cobyla_py.py\u001b[0m in \u001b[0;36m_minimize_cobyla\u001b[0;34m(fun, x0, args, constraints, rhobeg, tol, maxiter, disp, catol, callback, **unknown_options)\u001b[0m\n\u001b[1;32m    271\u001b[0m \u001b[0;34m\u001b[0m\u001b[0m\n\u001b[1;32m    272\u001b[0m     \u001b[0minfo\u001b[0m \u001b[0;34m=\u001b[0m \u001b[0mnp\u001b[0m\u001b[0;34m.\u001b[0m\u001b[0mzeros\u001b[0m\u001b[0;34m(\u001b[0m\u001b[0;36m4\u001b[0m\u001b[0;34m,\u001b[0m \u001b[0mnp\u001b[0m\u001b[0;34m.\u001b[0m\u001b[0mfloat64\u001b[0m\u001b[0;34m)\u001b[0m\u001b[0;34m\u001b[0m\u001b[0;34m\u001b[0m\u001b[0m\n\u001b[0;32m--> 273\u001b[0;31m     xopt, info = cobyla.minimize(calcfc, m=m, x=np.copy(x0), rhobeg=rhobeg,\n\u001b[0m\u001b[1;32m    274\u001b[0m                                   \u001b[0mrhoend\u001b[0m\u001b[0;34m=\u001b[0m\u001b[0mrhoend\u001b[0m\u001b[0;34m,\u001b[0m \u001b[0miprint\u001b[0m\u001b[0;34m=\u001b[0m\u001b[0miprint\u001b[0m\u001b[0;34m,\u001b[0m \u001b[0mmaxfun\u001b[0m\u001b[0;34m=\u001b[0m\u001b[0mmaxfun\u001b[0m\u001b[0;34m,\u001b[0m\u001b[0;34m\u001b[0m\u001b[0;34m\u001b[0m\u001b[0m\n\u001b[1;32m    275\u001b[0m                                   dinfo=info, callback=wrapped_callback)\n",
      "\u001b[0;32m~/opt/anaconda3/lib/python3.9/site-packages/scipy/optimize/_cobyla_py.py\u001b[0m in \u001b[0;36mcalcfc\u001b[0;34m(x, con)\u001b[0m\n\u001b[1;32m    259\u001b[0m \u001b[0;34m\u001b[0m\u001b[0m\n\u001b[1;32m    260\u001b[0m     \u001b[0;32mdef\u001b[0m \u001b[0mcalcfc\u001b[0m\u001b[0;34m(\u001b[0m\u001b[0mx\u001b[0m\u001b[0;34m,\u001b[0m \u001b[0mcon\u001b[0m\u001b[0;34m)\u001b[0m\u001b[0;34m:\u001b[0m\u001b[0;34m\u001b[0m\u001b[0;34m\u001b[0m\u001b[0m\n\u001b[0;32m--> 261\u001b[0;31m         \u001b[0mf\u001b[0m \u001b[0;34m=\u001b[0m \u001b[0mfun\u001b[0m\u001b[0;34m(\u001b[0m\u001b[0mnp\u001b[0m\u001b[0;34m.\u001b[0m\u001b[0mcopy\u001b[0m\u001b[0;34m(\u001b[0m\u001b[0mx\u001b[0m\u001b[0;34m)\u001b[0m\u001b[0;34m,\u001b[0m \u001b[0;34m*\u001b[0m\u001b[0margs\u001b[0m\u001b[0;34m)\u001b[0m\u001b[0;34m\u001b[0m\u001b[0;34m\u001b[0m\u001b[0m\n\u001b[0m\u001b[1;32m    262\u001b[0m         \u001b[0mi\u001b[0m \u001b[0;34m=\u001b[0m \u001b[0;36m0\u001b[0m\u001b[0;34m\u001b[0m\u001b[0;34m\u001b[0m\u001b[0m\n\u001b[1;32m    263\u001b[0m         \u001b[0;32mfor\u001b[0m \u001b[0msize\u001b[0m\u001b[0;34m,\u001b[0m \u001b[0mc\u001b[0m \u001b[0;32min\u001b[0m \u001b[0mizip\u001b[0m\u001b[0;34m(\u001b[0m\u001b[0mcons_lengths\u001b[0m\u001b[0;34m,\u001b[0m \u001b[0mconstraints\u001b[0m\u001b[0;34m)\u001b[0m\u001b[0;34m:\u001b[0m\u001b[0;34m\u001b[0m\u001b[0;34m\u001b[0m\u001b[0m\n",
      "\u001b[0;32m/var/folders/fg/00lp6jlj2plg615cnjqpfvn80000gn/T/ipykernel_91159/2745376114.py\u001b[0m in \u001b[0;36mcost_func\u001b[0;34m(params, ansatz, hamiltonian, estimator)\u001b[0m\n\u001b[1;32m     19\u001b[0m     \"\"\"\n\u001b[1;32m     20\u001b[0m     \u001b[0mpub\u001b[0m \u001b[0;34m=\u001b[0m \u001b[0;34m(\u001b[0m\u001b[0mansatz\u001b[0m\u001b[0;34m,\u001b[0m \u001b[0;34m[\u001b[0m\u001b[0mhamiltonian\u001b[0m\u001b[0;34m]\u001b[0m\u001b[0;34m,\u001b[0m \u001b[0;34m[\u001b[0m\u001b[0mparams\u001b[0m\u001b[0;34m]\u001b[0m\u001b[0;34m)\u001b[0m\u001b[0;34m\u001b[0m\u001b[0;34m\u001b[0m\u001b[0m\n\u001b[0;32m---> 21\u001b[0;31m     \u001b[0mresult\u001b[0m \u001b[0;34m=\u001b[0m \u001b[0mestimator\u001b[0m\u001b[0;34m.\u001b[0m\u001b[0mrun\u001b[0m\u001b[0;34m(\u001b[0m\u001b[0mpubs\u001b[0m\u001b[0;34m=\u001b[0m\u001b[0;34m[\u001b[0m\u001b[0mpub\u001b[0m\u001b[0;34m]\u001b[0m\u001b[0;34m)\u001b[0m\u001b[0;34m.\u001b[0m\u001b[0mresult\u001b[0m\u001b[0;34m(\u001b[0m\u001b[0;34m)\u001b[0m\u001b[0;34m\u001b[0m\u001b[0;34m\u001b[0m\u001b[0m\n\u001b[0m\u001b[1;32m     22\u001b[0m     \u001b[0menergy\u001b[0m \u001b[0;34m=\u001b[0m \u001b[0mresult\u001b[0m\u001b[0;34m[\u001b[0m\u001b[0;36m0\u001b[0m\u001b[0;34m]\u001b[0m\u001b[0;34m.\u001b[0m\u001b[0mdata\u001b[0m\u001b[0;34m.\u001b[0m\u001b[0mevs\u001b[0m\u001b[0;34m[\u001b[0m\u001b[0;36m0\u001b[0m\u001b[0;34m]\u001b[0m\u001b[0;34m\u001b[0m\u001b[0;34m\u001b[0m\u001b[0m\n\u001b[1;32m     23\u001b[0m \u001b[0;34m\u001b[0m\u001b[0m\n",
      "\u001b[0;32m~/opt/anaconda3/lib/python3.9/site-packages/qiskit_ibm_runtime/estimator.py\u001b[0m in \u001b[0;36mrun\u001b[0;34m(self, pubs, precision)\u001b[0m\n\u001b[1;32m    158\u001b[0m         \u001b[0mcoerced_pubs\u001b[0m \u001b[0;34m=\u001b[0m \u001b[0;34m[\u001b[0m\u001b[0mEstimatorPub\u001b[0m\u001b[0;34m.\u001b[0m\u001b[0mcoerce\u001b[0m\u001b[0;34m(\u001b[0m\u001b[0mpub\u001b[0m\u001b[0;34m,\u001b[0m \u001b[0mprecision\u001b[0m\u001b[0;34m)\u001b[0m \u001b[0;32mfor\u001b[0m \u001b[0mpub\u001b[0m \u001b[0;32min\u001b[0m \u001b[0mpubs\u001b[0m\u001b[0;34m]\u001b[0m\u001b[0;34m\u001b[0m\u001b[0;34m\u001b[0m\u001b[0m\n\u001b[1;32m    159\u001b[0m         \u001b[0mvalidate_estimator_pubs\u001b[0m\u001b[0;34m(\u001b[0m\u001b[0mcoerced_pubs\u001b[0m\u001b[0;34m)\u001b[0m\u001b[0;34m\u001b[0m\u001b[0;34m\u001b[0m\u001b[0m\n\u001b[0;32m--> 160\u001b[0;31m         \u001b[0;32mreturn\u001b[0m \u001b[0mself\u001b[0m\u001b[0;34m.\u001b[0m\u001b[0m_run\u001b[0m\u001b[0;34m(\u001b[0m\u001b[0mcoerced_pubs\u001b[0m\u001b[0;34m)\u001b[0m  \u001b[0;31m# type: ignore[arg-type]\u001b[0m\u001b[0;34m\u001b[0m\u001b[0;34m\u001b[0m\u001b[0m\n\u001b[0m\u001b[1;32m    161\u001b[0m \u001b[0;34m\u001b[0m\u001b[0m\n\u001b[1;32m    162\u001b[0m     \u001b[0;32mdef\u001b[0m \u001b[0m_validate_options\u001b[0m\u001b[0;34m(\u001b[0m\u001b[0mself\u001b[0m\u001b[0;34m,\u001b[0m \u001b[0moptions\u001b[0m\u001b[0;34m:\u001b[0m \u001b[0mdict\u001b[0m\u001b[0;34m)\u001b[0m \u001b[0;34m->\u001b[0m \u001b[0;32mNone\u001b[0m\u001b[0;34m:\u001b[0m\u001b[0;34m\u001b[0m\u001b[0;34m\u001b[0m\u001b[0m\n",
      "\u001b[0;32m~/opt/anaconda3/lib/python3.9/site-packages/qiskit_ibm_runtime/base_primitive.py\u001b[0m in \u001b[0;36m_run\u001b[0;34m(self, pubs)\u001b[0m\n\u001b[1;32m    193\u001b[0m         \u001b[0;31m# Batch or Session\u001b[0m\u001b[0;34m\u001b[0m\u001b[0;34m\u001b[0m\u001b[0m\n\u001b[1;32m    194\u001b[0m         \u001b[0;32mif\u001b[0m \u001b[0mself\u001b[0m\u001b[0;34m.\u001b[0m\u001b[0m_mode\u001b[0m\u001b[0;34m:\u001b[0m\u001b[0;34m\u001b[0m\u001b[0;34m\u001b[0m\u001b[0m\n\u001b[0;32m--> 195\u001b[0;31m             return self._mode._run(\n\u001b[0m\u001b[1;32m    196\u001b[0m                 \u001b[0mprogram_id\u001b[0m\u001b[0;34m=\u001b[0m\u001b[0mself\u001b[0m\u001b[0;34m.\u001b[0m\u001b[0m_program_id\u001b[0m\u001b[0;34m(\u001b[0m\u001b[0;34m)\u001b[0m\u001b[0;34m,\u001b[0m\u001b[0;34m\u001b[0m\u001b[0;34m\u001b[0m\u001b[0m\n\u001b[1;32m    197\u001b[0m                 \u001b[0minputs\u001b[0m\u001b[0;34m=\u001b[0m\u001b[0mprimitive_inputs\u001b[0m\u001b[0;34m,\u001b[0m\u001b[0;34m\u001b[0m\u001b[0;34m\u001b[0m\u001b[0m\n",
      "\u001b[0;32m~/opt/anaconda3/lib/python3.9/site-packages/qiskit_ibm_runtime/session.py\u001b[0m in \u001b[0;36m_wrapper\u001b[0;34m(self, *args, **kwargs)\u001b[0m\n\u001b[1;32m     40\u001b[0m         \u001b[0;32mif\u001b[0m \u001b[0;32mnot\u001b[0m \u001b[0mself\u001b[0m\u001b[0;34m.\u001b[0m\u001b[0m_active\u001b[0m\u001b[0;34m:\u001b[0m\u001b[0;34m\u001b[0m\u001b[0;34m\u001b[0m\u001b[0m\n\u001b[1;32m     41\u001b[0m             \u001b[0;32mraise\u001b[0m \u001b[0mIBMRuntimeError\u001b[0m\u001b[0;34m(\u001b[0m\u001b[0;34m\"The session is closed.\"\u001b[0m\u001b[0;34m)\u001b[0m\u001b[0;34m\u001b[0m\u001b[0;34m\u001b[0m\u001b[0m\n\u001b[0;32m---> 42\u001b[0;31m         \u001b[0;32mreturn\u001b[0m \u001b[0mfunc\u001b[0m\u001b[0;34m(\u001b[0m\u001b[0mself\u001b[0m\u001b[0;34m,\u001b[0m \u001b[0;34m*\u001b[0m\u001b[0margs\u001b[0m\u001b[0;34m,\u001b[0m \u001b[0;34m**\u001b[0m\u001b[0mkwargs\u001b[0m\u001b[0;34m)\u001b[0m\u001b[0;34m\u001b[0m\u001b[0;34m\u001b[0m\u001b[0m\n\u001b[0m\u001b[1;32m     43\u001b[0m \u001b[0;34m\u001b[0m\u001b[0m\n\u001b[1;32m     44\u001b[0m     \u001b[0;32mreturn\u001b[0m \u001b[0m_wrapper\u001b[0m\u001b[0;34m\u001b[0m\u001b[0;34m\u001b[0m\u001b[0m\n",
      "\u001b[0;32m~/opt/anaconda3/lib/python3.9/site-packages/qiskit_ibm_runtime/session.py\u001b[0m in \u001b[0;36m_run\u001b[0;34m(self, program_id, inputs, options, callback, result_decoder)\u001b[0m\n\u001b[1;32m    203\u001b[0m \u001b[0;34m\u001b[0m\u001b[0m\n\u001b[1;32m    204\u001b[0m         \u001b[0;32mif\u001b[0m \u001b[0misinstance\u001b[0m\u001b[0;34m(\u001b[0m\u001b[0mself\u001b[0m\u001b[0;34m.\u001b[0m\u001b[0m_service\u001b[0m\u001b[0;34m,\u001b[0m \u001b[0mQiskitRuntimeService\u001b[0m\u001b[0;34m)\u001b[0m\u001b[0;34m:\u001b[0m\u001b[0;34m\u001b[0m\u001b[0;34m\u001b[0m\u001b[0m\n\u001b[0;32m--> 205\u001b[0;31m             job = self._service._run(\n\u001b[0m\u001b[1;32m    206\u001b[0m                 \u001b[0mprogram_id\u001b[0m\u001b[0;34m=\u001b[0m\u001b[0mprogram_id\u001b[0m\u001b[0;34m,\u001b[0m  \u001b[0;31m# type: ignore[arg-type]\u001b[0m\u001b[0;34m\u001b[0m\u001b[0;34m\u001b[0m\u001b[0m\n\u001b[1;32m    207\u001b[0m                 \u001b[0moptions\u001b[0m\u001b[0;34m=\u001b[0m\u001b[0moptions\u001b[0m\u001b[0;34m,\u001b[0m\u001b[0;34m\u001b[0m\u001b[0;34m\u001b[0m\u001b[0m\n",
      "\u001b[0;32m~/opt/anaconda3/lib/python3.9/site-packages/qiskit_ibm_runtime/qiskit_runtime_service.py\u001b[0m in \u001b[0;36m_run\u001b[0;34m(self, program_id, inputs, options, callback, result_decoder, session_id, start_session)\u001b[0m\n\u001b[1;32m    922\u001b[0m             \u001b[0;32mif\u001b[0m \u001b[0mex\u001b[0m\u001b[0;34m.\u001b[0m\u001b[0mstatus_code\u001b[0m \u001b[0;34m==\u001b[0m \u001b[0;36m404\u001b[0m\u001b[0;34m:\u001b[0m\u001b[0;34m\u001b[0m\u001b[0;34m\u001b[0m\u001b[0m\n\u001b[1;32m    923\u001b[0m                 \u001b[0;32mraise\u001b[0m \u001b[0mRuntimeProgramNotFound\u001b[0m\u001b[0;34m(\u001b[0m\u001b[0;34mf\"Program not found: {ex.message}\"\u001b[0m\u001b[0;34m)\u001b[0m \u001b[0;32mfrom\u001b[0m \u001b[0;32mNone\u001b[0m\u001b[0;34m\u001b[0m\u001b[0;34m\u001b[0m\u001b[0m\n\u001b[0;32m--> 924\u001b[0;31m             \u001b[0;32mraise\u001b[0m \u001b[0mIBMRuntimeError\u001b[0m\u001b[0;34m(\u001b[0m\u001b[0;34mf\"Failed to run program: {ex}\"\u001b[0m\u001b[0;34m)\u001b[0m \u001b[0;32mfrom\u001b[0m \u001b[0;32mNone\u001b[0m\u001b[0;34m\u001b[0m\u001b[0;34m\u001b[0m\u001b[0m\n\u001b[0m\u001b[1;32m    925\u001b[0m \u001b[0;34m\u001b[0m\u001b[0m\n\u001b[1;32m    926\u001b[0m         \u001b[0;32mif\u001b[0m \u001b[0mresponse\u001b[0m\u001b[0;34m[\u001b[0m\u001b[0;34m\"backend\"\u001b[0m\u001b[0;34m]\u001b[0m \u001b[0;32mand\u001b[0m \u001b[0mresponse\u001b[0m\u001b[0;34m[\u001b[0m\u001b[0;34m\"backend\"\u001b[0m\u001b[0;34m]\u001b[0m \u001b[0;34m!=\u001b[0m \u001b[0mqrt_options\u001b[0m\u001b[0;34m.\u001b[0m\u001b[0mget_backend_name\u001b[0m\u001b[0;34m(\u001b[0m\u001b[0;34m)\u001b[0m\u001b[0;34m:\u001b[0m\u001b[0;34m\u001b[0m\u001b[0;34m\u001b[0m\u001b[0m\n",
      "\u001b[0;31mIBMRuntimeError\u001b[0m: 'Failed to run program: \\'400 Client Error: Bad Request for url: https://api.quantum.ibm.com/runtime/jobs. {\"errors\":[{\"code\":1217,\"message\":\"Session has been closed.\",\"solution\":\"Reduce time between submitting subsequent jobs in a session.\",\"more_info\":\"https://docs.quantum-computing.ibm.com/errors\"}]}\\''"
     ]
    }
   ],
   "source": [
    "with Session(service=service, backend=backend) as session:\n",
    "    estimator = Estimator(mode=session)\n",
    "    estimator.options.default_shots = 100\n",
    "\n",
    "    res = minimize(\n",
    "        cost_func,\n",
    "        x0,\n",
    "        args=(ansatz_isa, hamiltonian_isa, estimator),\n",
    "        method=\"cobyla\",\n",
    "    )\n",
    "res"
   ]
  },
  {
   "cell_type": "code",
   "execution_count": null,
   "id": "3193fad2",
   "metadata": {},
   "outputs": [],
   "source": [
    "all(cost_history_dict[\"prev_vector\"] == res.x)"
   ]
  },
  {
   "cell_type": "code",
   "execution_count": null,
   "id": "ac6e5d4b",
   "metadata": {},
   "outputs": [],
   "source": [
    "cost_history_dict[\"iters\"] == res.nfev"
   ]
  },
  {
   "cell_type": "code",
   "execution_count": null,
   "id": "78d43c22",
   "metadata": {},
   "outputs": [],
   "source": [
    "fig, ax = plt.subplots()\n",
    "ax.plot(range(cost_history_dict[\"iters\"]), cost_history_dict[\"cost_history\"])\n",
    "ax.set_xlabel(\"Iterations\")\n",
    "ax.set_ylabel(\"Cost\")\n",
    "plt.draw()"
   ]
  },
  {
   "cell_type": "code",
   "execution_count": null,
   "id": "ec8e23cf",
   "metadata": {},
   "outputs": [],
   "source": []
  }
 ],
 "metadata": {
  "kernelspec": {
   "display_name": "Python 3 (ipykernel)",
   "language": "python",
   "name": "python3"
  },
  "language_info": {
   "codemirror_mode": {
    "name": "ipython",
    "version": 3
   },
   "file_extension": ".py",
   "mimetype": "text/x-python",
   "name": "python",
   "nbconvert_exporter": "python",
   "pygments_lexer": "ipython3",
   "version": "3.9.13"
  }
 },
 "nbformat": 4,
 "nbformat_minor": 5
}
